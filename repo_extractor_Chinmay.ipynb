{
  "nbformat": 4,
  "nbformat_minor": 0,
  "metadata": {
    "colab": {
      "provenance": []
    },
    "kernelspec": {
      "name": "python3",
      "display_name": "Python 3"
    },
    "language_info": {
      "name": "python"
    }
  },
  "cells": [
    {
      "cell_type": "code",
      "execution_count": 1,
      "metadata": {
        "id": "2BLBtqWGGuOM"
      },
      "outputs": [],
      "source": [
        "import pandas as pd\n",
        "import requests\n",
        "from io import StringIO\n",
        "\n",
        "\n",
        "def download_and_combine_csv(urls: list) -> pd.DataFrame:\n",
        "    \"\"\"\n",
        "    Download CSV files from provided URLs and combine them row-wise.\n",
        "\n",
        "    The function ensures compatibility by checking column names or count,\n",
        "    handling encoding issues, and converting numerical columns to integers.\n",
        "\n",
        "    Args:\n",
        "        urls (list): List of URLs pointing to CSV files.\n",
        "\n",
        "    Returns:\n",
        "        pd.DataFrame: Combined DataFrame containing data from valid CSV files.\n",
        "    \"\"\"\n",
        "    expected_columns = {'user_prompt', 'url_to_check', 'func_rating', 'custom_rating'}\n",
        "    combined_df = pd.DataFrame()\n",
        "\n",
        "    for url in urls:\n",
        "        try:\n",
        "            raw_url = url.replace('github.com', 'raw.githubusercontent.com').replace('/blob', '')\n",
        "            response = requests.get(raw_url)\n",
        "\n",
        "            if response.status_code == 200:\n",
        "                try:\n",
        "                    content = response.content.decode('utf-8')\n",
        "                except UnicodeDecodeError:\n",
        "                    content = response.content.decode('latin1')\n",
        "\n",
        "                df = pd.read_csv(StringIO(content))\n",
        "\n",
        "                if set(df.columns) == expected_columns:\n",
        "                    combined_df = pd.concat([combined_df, df], ignore_index=True)\n",
        "                elif len(df.columns) >= 4:\n",
        "                    df = df.iloc[:, :4]\n",
        "                    df.columns = ['user_prompt', 'url_to_check', 'func_rating', 'custom_rating']\n",
        "                    combined_df = pd.concat([combined_df, df], ignore_index=True)\n",
        "                else:\n",
        "                    print(f\"Skipping file with insufficient columns: {url}\")\n",
        "            else:\n",
        "                print(f\"Failed to download from {url}\")\n",
        "        except Exception as e:\n",
        "            print(f\"Error processing {url}: {e}\")\n",
        "\n",
        "    if not combined_df.empty:\n",
        "        combined_df[['func_rating', 'custom_rating']] = combined_df[['func_rating', 'custom_rating']].round().astype(\n",
        "            int)\n",
        "\n",
        "    return combined_df\n",
        "\n",
        "#Example URLs:\n",
        "urls = [\n",
        "    \"https://github.com/vrutika-prajapati/Credibility-Score-for-Articles/blob/main/projects/deliverable%202/Url_validation.csv\",\n",
        "    \"https://github.com/Saikumar08-sk/URL-Validation/blob/main/Deliverable.csv\",\n",
        "    \"https://github.com/aditya19111/Project-1-Credibility-Score-for-Articles-Sources-References/blob/main/Deliverable_2/Deliverables_rating_comparison%20-%20Sheet1.csv\",\n",
        "    \"https://github.com/SAIKUMAR500/algorithums-for-data-science/blob/main/deliverable2/dataset(Sheet1).csv\",\n",
        "    \"https://github.com/drashti-sanghani/Credibility_score_articles/blob/main/Project/Deliverable2/user_ratings.csv\",\n",
        "    \"https://github.com/anchalrai101/CREDIBILITY-SCORE/blob/main/urltesting_scores.csv\",\n",
        "    \"https://github.com/AliSInamdar/CS676-Ali-Inamdar/blob/Project_1_Credibilty_Score/Deliverable_2/Deliverable_2.csv\",\n",
        "    \"https://github.com/bhavnaa22/Algorithms-For-Data-Science/blob/main/Deliverable%202/Deliverable2.csv\",\n",
        "    \"https://github.com/bhatthardik4/AlgorithmDS/blob/main/Deliverable_2/HardikBhattD2.csv\",\n",
        "    \"https://github.com/Rakeshkanche/Algorithms-for-Data-Science/blob/main/queries_urls_ratings.csv\",\n",
        "    \"https://github.com/kristinakim-code/Credibility-Check/blob/main/deliverable2.csv\",\n",
        "    \"https://github.com/kamaldomandula/Algorithms-of-data-science-Project/blob/main/Project/project1/Deliverable2/deliverable.csv\",\n",
        "    \"https://github.com/ChinmayShetye26/Algo-for-DS-delivery2/blob/main/Sample.csv\",\n",
        "    \"https://github.com/krishnam229/Project1/blob/main/deliverable2/sample.csv\",\n",
        "    \"https://github.com/drona23/Deliverable2/blob/main/output.csv\",\n",
        "    \"https://github.com/JoshuaGottlieb/Chatbot-Credibility-Scorer/blob/main/src/deliverable-02/testing/sample.csv\",\n",
        "    \"https://github.com/DKethan/searchbot/blob/dev-01/deliverables/samples/url_validation_results.csv\",\n",
        "]\n",
        "\n",
        "\n"
      ]
    },
    {
      "cell_type": "code",
      "source": [
        "result_df = download_and_combine_csv(urls)\n",
        "print(result_df)"
      ],
      "metadata": {
        "colab": {
          "base_uri": "https://localhost:8080/"
        },
        "id": "NMPAYUL2K9TB",
        "outputId": "2e3c62ed-b7b9-486b-8266-38cb6d476a9f"
      },
      "execution_count": 2,
      "outputs": [
        {
          "output_type": "stream",
          "name": "stdout",
          "text": [
            "                                           user_prompt  \\\n",
            "0    I have just been on an international flight, c...   \n",
            "1          What are the benefits of a vegetarian diet?   \n",
            "2          What are the benefits of a vegetarian diet?   \n",
            "3          What are the benefits of a vegetarian diet?   \n",
            "4    How to improve mental health during stressful ...   \n",
            "..                                                 ...   \n",
            "317  Robots recovering dumped explosives from the B...   \n",
            "318  DOGE staff question 'resign' email as new HR c...   \n",
            "319  The Elektron Digitone II: A modern classic in ...   \n",
            "320  The best hearing aids of 2025, reviewed by exp...   \n",
            "321      Our favorite digital notebooks and smart pens   \n",
            "\n",
            "                                          url_to_check  func_rating  \\\n",
            "0    https://www.mayoclinic.org/healthy-lifestyle/i...            2   \n",
            "1    https://www.nhs.uk/live-well/eat-well/how-to-e...            2   \n",
            "2    https://www.nhs.uk/live-well/eat-well/how-to-e...            2   \n",
            "3    https://pubmed.ncbi.nlm.nih.gov/37226630/#:~:t...            2   \n",
            "4    https://www.who.int/news-room/questions-and-an...            3   \n",
            "..                                                 ...          ...   \n",
            "317  https://hakaimagazine.com/features/the-big-bal...            4   \n",
            "318  https://www.desmoinesregister.com/story/news/l...            3   \n",
            "319  https://www.wired.com/review/elektron-digitone...            4   \n",
            "320  https://www.cnet.com/health/medical/best-over-...            3   \n",
            "321  https://www.zdnet.com/article/best-smart-noteb...            3   \n",
            "\n",
            "     custom_rating  \n",
            "0                3  \n",
            "1                4  \n",
            "2                2  \n",
            "3                3  \n",
            "4                3  \n",
            "..             ...  \n",
            "317              4  \n",
            "318              3  \n",
            "319              4  \n",
            "320              3  \n",
            "321              3  \n",
            "\n",
            "[322 rows x 4 columns]\n"
          ]
        }
      ]
    },
    {
      "cell_type": "code",
      "source": [
        "\n",
        "result_df.to_csv('combined_data.csv', index=False)\n"
      ],
      "metadata": {
        "id": "XXAhlX4MLMhu"
      },
      "execution_count": 3,
      "outputs": []
    }
  ]
}